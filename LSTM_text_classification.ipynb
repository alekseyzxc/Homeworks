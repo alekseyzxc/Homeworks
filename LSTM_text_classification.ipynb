{
  "nbformat": 4,
  "nbformat_minor": 0,
  "metadata": {
    "kernelspec": {
      "display_name": "Python 3",
      "language": "python",
      "name": "python3"
    },
    "language_info": {
      "codemirror_mode": {
        "name": "ipython",
        "version": 3
      },
      "file_extension": ".py",
      "mimetype": "text/x-python",
      "name": "python",
      "nbconvert_exporter": "python",
      "pygments_lexer": "ipython3",
      "version": "3.8.5"
    },
    "colab": {
      "name": "homework_14.ipynb",
      "provenance": [],
      "collapsed_sections": []
    },
    "accelerator": "GPU"
  },
  "cells": [
    {
      "cell_type": "code",
      "metadata": {
        "colab": {
          "base_uri": "https://localhost:8080/"
        },
        "id": "KVErDqqgvFl3",
        "outputId": "3dd9751f-3fab-41b0-9648-6a00243bd343"
      },
      "source": [
        "import pandas as pd\n",
        "import numpy as np\n",
        "import tensorflow as tf\n",
        "print(tf.__version__)\n",
        "import nltk\n",
        "import string\n",
        "from itertools import chain"
      ],
      "execution_count": 1,
      "outputs": [
        {
          "output_type": "stream",
          "text": [
            "2.4.1\n"
          ],
          "name": "stdout"
        }
      ]
    },
    {
      "cell_type": "code",
      "metadata": {
        "colab": {
          "base_uri": "https://localhost:8080/"
        },
        "id": "L5zGqRMHveuG",
        "outputId": "e15b4bc3-2c4e-4df7-8805-ba024b4c6890"
      },
      "source": [
        "from google.colab import drive\n",
        "drive.mount('/content/drive')"
      ],
      "execution_count": 2,
      "outputs": [
        {
          "output_type": "stream",
          "text": [
            "Mounted at /content/drive\n"
          ],
          "name": "stdout"
        }
      ]
    },
    {
      "cell_type": "markdown",
      "metadata": {
        "id": "ordY8pmjvFl7"
      },
      "source": [
        "---"
      ]
    },
    {
      "cell_type": "code",
      "metadata": {
        "colab": {
          "base_uri": "https://localhost:8080/",
          "height": 204
        },
        "id": "dyJOgBBQvFl7",
        "outputId": "a9c6c2e3-71fc-474e-e47b-1e78a3ec68d3"
      },
      "source": [
        "df_description = pd.read_csv('/content/drive/MyDrive/Genre Classification Dataset/description.txt', \n",
        "                           engine ='python', header = None, encoding='UTF-8')\n",
        "df_description.reset_index(drop=True, inplace=True)\n",
        "df_description.head()"
      ],
      "execution_count": 3,
      "outputs": [
        {
          "output_type": "execute_result",
          "data": {
            "text/html": [
              "<div>\n",
              "<style scoped>\n",
              "    .dataframe tbody tr th:only-of-type {\n",
              "        vertical-align: middle;\n",
              "    }\n",
              "\n",
              "    .dataframe tbody tr th {\n",
              "        vertical-align: top;\n",
              "    }\n",
              "\n",
              "    .dataframe thead th {\n",
              "        text-align: right;\n",
              "    }\n",
              "</style>\n",
              "<table border=\"1\" class=\"dataframe\">\n",
              "  <thead>\n",
              "    <tr style=\"text-align: right;\">\n",
              "      <th></th>\n",
              "      <th>0</th>\n",
              "    </tr>\n",
              "  </thead>\n",
              "  <tbody>\n",
              "    <tr>\n",
              "      <th>0</th>\n",
              "      <td>Train data:</td>\n",
              "    </tr>\n",
              "    <tr>\n",
              "      <th>1</th>\n",
              "      <td>ID ::: TITLE ::: GENRE ::: DESCRIPTION</td>\n",
              "    </tr>\n",
              "    <tr>\n",
              "      <th>2</th>\n",
              "      <td>ID ::: TITLE ::: GENRE ::: DESCRIPTION</td>\n",
              "    </tr>\n",
              "    <tr>\n",
              "      <th>3</th>\n",
              "      <td>ID ::: TITLE ::: GENRE ::: DESCRIPTION</td>\n",
              "    </tr>\n",
              "    <tr>\n",
              "      <th>4</th>\n",
              "      <td>ID ::: TITLE ::: GENRE ::: DESCRIPTION</td>\n",
              "    </tr>\n",
              "  </tbody>\n",
              "</table>\n",
              "</div>"
            ],
            "text/plain": [
              "                                        0\n",
              "0                             Train data:\n",
              "1  ID ::: TITLE ::: GENRE ::: DESCRIPTION\n",
              "2  ID ::: TITLE ::: GENRE ::: DESCRIPTION\n",
              "3  ID ::: TITLE ::: GENRE ::: DESCRIPTION\n",
              "4  ID ::: TITLE ::: GENRE ::: DESCRIPTION"
            ]
          },
          "metadata": {
            "tags": []
          },
          "execution_count": 3
        }
      ]
    },
    {
      "cell_type": "markdown",
      "metadata": {
        "id": "eVi0ICNvvFl8"
      },
      "source": [
        "----"
      ]
    },
    {
      "cell_type": "markdown",
      "metadata": {
        "id": "KzCfTIEPvFl8"
      },
      "source": [
        "### test_data"
      ]
    },
    {
      "cell_type": "code",
      "metadata": {
        "colab": {
          "base_uri": "https://localhost:8080/",
          "height": 204
        },
        "id": "L7uq8oBcvFl9",
        "outputId": "7385b035-71d0-4de9-8a63-2858c6ce0ca8"
      },
      "source": [
        "df_test_data = pd.read_csv('/content/drive/MyDrive/Genre Classification Dataset/test_data.txt', \n",
        "                           sep = ' ::: ', index_col = 0, engine ='python', header = None, encoding='UTF-8')\n",
        "df_test_data.columns = ['TITLE','DESCRIPTION']\n",
        "df_test_data.reset_index(drop=True, inplace=True)\n",
        "df_test_data.head()"
      ],
      "execution_count": 4,
      "outputs": [
        {
          "output_type": "execute_result",
          "data": {
            "text/html": [
              "<div>\n",
              "<style scoped>\n",
              "    .dataframe tbody tr th:only-of-type {\n",
              "        vertical-align: middle;\n",
              "    }\n",
              "\n",
              "    .dataframe tbody tr th {\n",
              "        vertical-align: top;\n",
              "    }\n",
              "\n",
              "    .dataframe thead th {\n",
              "        text-align: right;\n",
              "    }\n",
              "</style>\n",
              "<table border=\"1\" class=\"dataframe\">\n",
              "  <thead>\n",
              "    <tr style=\"text-align: right;\">\n",
              "      <th></th>\n",
              "      <th>TITLE</th>\n",
              "      <th>DESCRIPTION</th>\n",
              "    </tr>\n",
              "  </thead>\n",
              "  <tbody>\n",
              "    <tr>\n",
              "      <th>0</th>\n",
              "      <td>Edgar's Lunch (1998)</td>\n",
              "      <td>L.R. Brane loves his life - his car, his apart...</td>\n",
              "    </tr>\n",
              "    <tr>\n",
              "      <th>1</th>\n",
              "      <td>La guerra de papá (1977)</td>\n",
              "      <td>Spain, March 1964: Quico is a very naughty chi...</td>\n",
              "    </tr>\n",
              "    <tr>\n",
              "      <th>2</th>\n",
              "      <td>Off the Beaten Track (2010)</td>\n",
              "      <td>One year in the life of Albin and his family o...</td>\n",
              "    </tr>\n",
              "    <tr>\n",
              "      <th>3</th>\n",
              "      <td>Meu Amigo Hindu (2015)</td>\n",
              "      <td>His father has died, he hasn't spoken with his...</td>\n",
              "    </tr>\n",
              "    <tr>\n",
              "      <th>4</th>\n",
              "      <td>Er nu zhai (1955)</td>\n",
              "      <td>Before he was known internationally as a marti...</td>\n",
              "    </tr>\n",
              "  </tbody>\n",
              "</table>\n",
              "</div>"
            ],
            "text/plain": [
              "                         TITLE                                        DESCRIPTION\n",
              "0         Edgar's Lunch (1998)  L.R. Brane loves his life - his car, his apart...\n",
              "1     La guerra de papá (1977)  Spain, March 1964: Quico is a very naughty chi...\n",
              "2  Off the Beaten Track (2010)  One year in the life of Albin and his family o...\n",
              "3       Meu Amigo Hindu (2015)  His father has died, he hasn't spoken with his...\n",
              "4            Er nu zhai (1955)  Before he was known internationally as a marti..."
            ]
          },
          "metadata": {
            "tags": []
          },
          "execution_count": 4
        }
      ]
    },
    {
      "cell_type": "code",
      "metadata": {
        "colab": {
          "base_uri": "https://localhost:8080/"
        },
        "id": "oK7KTT1GvFl9",
        "outputId": "1901d712-4422-4d18-f622-f23da90d8f27"
      },
      "source": [
        "if sum(list(df_test_data.isnull().sum())) == 0:\n",
        "    print('\\033[1m' + 'NaN-строки отсутствуют')\n",
        "else:\n",
        "    print('\\033[1m' + 'NaN-строки присутствуют в количестве:'+'\\033[0m')\n",
        "    print(df_test_data.isnull().sum())"
      ],
      "execution_count": 5,
      "outputs": [
        {
          "output_type": "stream",
          "text": [
            "\u001b[1mNaN-строки отсутствуют\n"
          ],
          "name": "stdout"
        }
      ]
    },
    {
      "cell_type": "code",
      "metadata": {
        "colab": {
          "base_uri": "https://localhost:8080/"
        },
        "id": "RQcFx_7PvFl-",
        "outputId": "997bbf1c-da1c-4968-b876-b4e36d7c0bf8"
      },
      "source": [
        "df_test_data.info()"
      ],
      "execution_count": 6,
      "outputs": [
        {
          "output_type": "stream",
          "text": [
            "<class 'pandas.core.frame.DataFrame'>\n",
            "RangeIndex: 54200 entries, 0 to 54199\n",
            "Data columns (total 2 columns):\n",
            " #   Column       Non-Null Count  Dtype \n",
            "---  ------       --------------  ----- \n",
            " 0   TITLE        54200 non-null  object\n",
            " 1   DESCRIPTION  54200 non-null  object\n",
            "dtypes: object(2)\n",
            "memory usage: 847.0+ KB\n"
          ],
          "name": "stdout"
        }
      ]
    },
    {
      "cell_type": "code",
      "metadata": {
        "colab": {
          "base_uri": "https://localhost:8080/",
          "height": 173
        },
        "id": "pOg0y3WFvFl_",
        "outputId": "41bd9dfd-2101-4f06-9d96-6429ed79de22"
      },
      "source": [
        "df_test_data.describe()"
      ],
      "execution_count": 7,
      "outputs": [
        {
          "output_type": "execute_result",
          "data": {
            "text/html": [
              "<div>\n",
              "<style scoped>\n",
              "    .dataframe tbody tr th:only-of-type {\n",
              "        vertical-align: middle;\n",
              "    }\n",
              "\n",
              "    .dataframe tbody tr th {\n",
              "        vertical-align: top;\n",
              "    }\n",
              "\n",
              "    .dataframe thead th {\n",
              "        text-align: right;\n",
              "    }\n",
              "</style>\n",
              "<table border=\"1\" class=\"dataframe\">\n",
              "  <thead>\n",
              "    <tr style=\"text-align: right;\">\n",
              "      <th></th>\n",
              "      <th>TITLE</th>\n",
              "      <th>DESCRIPTION</th>\n",
              "    </tr>\n",
              "  </thead>\n",
              "  <tbody>\n",
              "    <tr>\n",
              "      <th>count</th>\n",
              "      <td>54200</td>\n",
              "      <td>54200</td>\n",
              "    </tr>\n",
              "    <tr>\n",
              "      <th>unique</th>\n",
              "      <td>54200</td>\n",
              "      <td>54072</td>\n",
              "    </tr>\n",
              "    <tr>\n",
              "      <th>top</th>\n",
              "      <td>The Jeweled Heart Murders (2016)</td>\n",
              "      <td>Grammy - music award of the American academy o...</td>\n",
              "    </tr>\n",
              "    <tr>\n",
              "      <th>freq</th>\n",
              "      <td>1</td>\n",
              "      <td>10</td>\n",
              "    </tr>\n",
              "  </tbody>\n",
              "</table>\n",
              "</div>"
            ],
            "text/plain": [
              "                                   TITLE                                        DESCRIPTION\n",
              "count                              54200                                              54200\n",
              "unique                             54200                                              54072\n",
              "top     The Jeweled Heart Murders (2016)  Grammy - music award of the American academy o...\n",
              "freq                                   1                                                 10"
            ]
          },
          "metadata": {
            "tags": []
          },
          "execution_count": 7
        }
      ]
    },
    {
      "cell_type": "code",
      "metadata": {
        "colab": {
          "base_uri": "https://localhost:8080/",
          "height": 221
        },
        "id": "7Eve17tmvFl_",
        "outputId": "25e9acbd-f12b-41bb-d84a-b94065dbd0fd"
      },
      "source": [
        "# дубликаты в столбце DESCRIPTION\n",
        "ids = df_test_data['DESCRIPTION']\n",
        "print('Количество идентичных записей в столбце DESCRIPTION =', \n",
        "      df_test_data[ids.isin(ids[ids.duplicated()])].index.nunique())\n",
        "df_test_data[ids.isin(ids[ids.duplicated()])].sort_values('DESCRIPTION').head()"
      ],
      "execution_count": 8,
      "outputs": [
        {
          "output_type": "stream",
          "text": [
            "Количество идентичных записей в столбце DESCRIPTION = 203\n"
          ],
          "name": "stdout"
        },
        {
          "output_type": "execute_result",
          "data": {
            "text/html": [
              "<div>\n",
              "<style scoped>\n",
              "    .dataframe tbody tr th:only-of-type {\n",
              "        vertical-align: middle;\n",
              "    }\n",
              "\n",
              "    .dataframe tbody tr th {\n",
              "        vertical-align: top;\n",
              "    }\n",
              "\n",
              "    .dataframe thead th {\n",
              "        text-align: right;\n",
              "    }\n",
              "</style>\n",
              "<table border=\"1\" class=\"dataframe\">\n",
              "  <thead>\n",
              "    <tr style=\"text-align: right;\">\n",
              "      <th></th>\n",
              "      <th>TITLE</th>\n",
              "      <th>DESCRIPTION</th>\n",
              "    </tr>\n",
              "  </thead>\n",
              "  <tbody>\n",
              "    <tr>\n",
              "      <th>27594</th>\n",
              "      <td>The 31st Annual People's Choice Awards (2005)</td>\n",
              "      <td>\"People' s Choice Awards\" - American award, th...</td>\n",
              "    </tr>\n",
              "    <tr>\n",
              "      <th>33787</th>\n",
              "      <td>The 26th Annual People's Choice Awards (2000)</td>\n",
              "      <td>\"People' s Choice Awards\" - American award, th...</td>\n",
              "    </tr>\n",
              "    <tr>\n",
              "      <th>21428</th>\n",
              "      <td>The 25th Annual People's Choice Awards (1999)</td>\n",
              "      <td>\"People' s Choice Awards\" - American award, th...</td>\n",
              "    </tr>\n",
              "    <tr>\n",
              "      <th>15156</th>\n",
              "      <td>The 30th Annual People's Choice Awards (2004)</td>\n",
              "      <td>\"People' s Choice Awards\" - American award, th...</td>\n",
              "    </tr>\n",
              "    <tr>\n",
              "      <th>11257</th>\n",
              "      <td>The 12th Annual People's Choice Awards (1986)</td>\n",
              "      <td>\"People' s Choice Awards\" - American award, th...</td>\n",
              "    </tr>\n",
              "  </tbody>\n",
              "</table>\n",
              "</div>"
            ],
            "text/plain": [
              "                                               TITLE                                        DESCRIPTION\n",
              "27594  The 31st Annual People's Choice Awards (2005)  \"People' s Choice Awards\" - American award, th...\n",
              "33787  The 26th Annual People's Choice Awards (2000)  \"People' s Choice Awards\" - American award, th...\n",
              "21428  The 25th Annual People's Choice Awards (1999)  \"People' s Choice Awards\" - American award, th...\n",
              "15156  The 30th Annual People's Choice Awards (2004)  \"People' s Choice Awards\" - American award, th...\n",
              "11257  The 12th Annual People's Choice Awards (1986)  \"People' s Choice Awards\" - American award, th..."
            ]
          },
          "metadata": {
            "tags": []
          },
          "execution_count": 8
        }
      ]
    },
    {
      "cell_type": "code",
      "metadata": {
        "id": "JsXGujWMvFmA"
      },
      "source": [
        "# стоп-слова\n",
        "stop_words = [\n",
        "    'i', 'me', 'my', 'myself', 'we', 'our', 'ours', 'ourselves', 'you', \"you're\", \"you've\", \"you'll\", \"you'd\",\n",
        "    'your', 'yours', 'yourself', 'yourselves', 'he', 'him', 'his', 'himself', 'she', \"she's\", 'her', 'hers',\n",
        "    'herself', 'it', \"it's\", 'its', 'itself', 'they', 'them', 'their', 'theirs', 'themselves', 'what', 'which',\n",
        "    'who', 'whom', 'this', 'that', \"that'll\", 'these', 'those', 'am', 'is', 'are', 'was', 'were', 'be', 'been',\n",
        "    'being', 'have', 'has', 'had', 'having', 'do', 'does', 'did', 'doing', 'a', 'an', 'the', 'and', 'but', 'if',\n",
        "    'or', 'because', 'as', 'until', 'while', 'of', 'at', 'by', 'for', 'with', 'about', 'against', 'between',\n",
        "    'into', 'through', 'during', 'before', 'after', 'above', 'below', 'to', 'from', 'up', 'down', 'in', 'out',\n",
        "    'on', 'off', 'over', 'under', 'again', 'further', 'then', 'once', 'here', 'there', 'when', 'where', 'why',\n",
        "    'how', 'all', 'any', 'both', 'each', 'few', 'more', 'most', 'other', 'some', 'such', 'no', 'nor', 'not',\n",
        "    'only', 'own', 'same', 'so', 'than', 'too', 'very', 's', 't', 'can', 'will', 'just', 'don', \"don't\", 'shold',\n",
        "    \"should've\", 'now', 'd', 'll', 'm', 'o', 're', 've', 'y', 'ain', 'aren', \"aren't\", 'couldn', \"couldn't\",\n",
        "    'didn', \"didn't\", 'doesn', \"doesn't\", 'hadn', \"hadn't\", 'hasn', \"hasn't\", 'haven', \"haven't\", 'isn', \"isn't\",\n",
        "    'ma', 'mightn', \"mightn't\", 'mustn', \"mustn't\", 'needn', \"needn't\", 'shan', \"shan't\", 'shouldn', \"shouldn't\",\n",
        "    'wasn', \"wasn't\", 'weren', \"weren't\", 'won', \"won't\", 'wouldn', \"wouldn't\"\n",
        "]"
      ],
      "execution_count": 9,
      "outputs": []
    },
    {
      "cell_type": "code",
      "metadata": {
        "colab": {
          "base_uri": "https://localhost:8080/"
        },
        "id": "u8bXTVl6vFmB",
        "outputId": "3eb8b860-c19a-41a6-eb9b-5a817676d4f3"
      },
      "source": [
        "nltk.download('punkt', download_dir='.')"
      ],
      "execution_count": 10,
      "outputs": [
        {
          "output_type": "stream",
          "text": [
            "[nltk_data] Downloading package punkt to ....\n",
            "[nltk_data]   Unzipping tokenizers/punkt.zip.\n"
          ],
          "name": "stdout"
        },
        {
          "output_type": "execute_result",
          "data": {
            "text/plain": [
              "True"
            ]
          },
          "metadata": {
            "tags": []
          },
          "execution_count": 10
        }
      ]
    },
    {
      "cell_type": "code",
      "metadata": {
        "colab": {
          "base_uri": "https://localhost:8080/"
        },
        "id": "XQNhnqeXvFmB",
        "outputId": "a267d3f7-7abb-4d17-8393-2802009f88a2"
      },
      "source": [
        "def tokenize_text(raw_text: str):\n",
        "    \"\"\"Функция для токенизации текста\n",
        "    \n",
        "    :param raw_text: исходная текстовая строка\n",
        "    \"\"\"\n",
        "    tokenized_str = nltk.word_tokenize(raw_text)\n",
        "    tokens = [i.lower() for i in tokenized_str if ( i not in string.punctuation )]\n",
        "    filtered_tokens = [i for i in tokens if ( i not in stop_words )]\n",
        "    return filtered_tokens\n",
        "\n",
        "# применяем функцию в датафрейму с помощью метода .apply()\n",
        "tokenized_tweets= df_test_data.DESCRIPTION.apply(tokenize_text)\n",
        "\n",
        "# добавляем новую колонку в исходный датафрейм\n",
        "df_test_data = df_test_data.assign(\n",
        "    tokenized=tokenized_tweets\n",
        ")\n",
        "from itertools import chain\n",
        "print(f\"Уникальных токенов {len(set(chain.from_iterable(df_test_data['tokenized'].to_list())))}.\")"
      ],
      "execution_count": 11,
      "outputs": [
        {
          "output_type": "stream",
          "text": [
            "Уникальных токенов 147539.\n"
          ],
          "name": "stdout"
        }
      ]
    },
    {
      "cell_type": "markdown",
      "metadata": {
        "id": "sxS-ZVYVvFmC"
      },
      "source": [
        "----"
      ]
    },
    {
      "cell_type": "markdown",
      "metadata": {
        "id": "Xupo46dcvFmC"
      },
      "source": [
        "### test_data_solution"
      ]
    },
    {
      "cell_type": "code",
      "metadata": {
        "colab": {
          "base_uri": "https://localhost:8080/",
          "height": 204
        },
        "id": "FeYvokfuvFmD",
        "outputId": "9c3be6e6-7b6e-4956-8fbe-a0175f18c428"
      },
      "source": [
        "df_test_data_solution = pd.read_csv('/content/drive/MyDrive/Genre Classification Dataset/test_data_solution.txt', \n",
        "                           sep = ' ::: ', index_col = 0, engine ='python', header = None, encoding='UTF-8')\n",
        "df_test_data_solution.columns = ['TITLE','GENRE','DESCRIPTION']\n",
        "df_test_data_solution.reset_index(drop=True, inplace=True)\n",
        "df_test_data_solution.head()"
      ],
      "execution_count": 12,
      "outputs": [
        {
          "output_type": "execute_result",
          "data": {
            "text/html": [
              "<div>\n",
              "<style scoped>\n",
              "    .dataframe tbody tr th:only-of-type {\n",
              "        vertical-align: middle;\n",
              "    }\n",
              "\n",
              "    .dataframe tbody tr th {\n",
              "        vertical-align: top;\n",
              "    }\n",
              "\n",
              "    .dataframe thead th {\n",
              "        text-align: right;\n",
              "    }\n",
              "</style>\n",
              "<table border=\"1\" class=\"dataframe\">\n",
              "  <thead>\n",
              "    <tr style=\"text-align: right;\">\n",
              "      <th></th>\n",
              "      <th>TITLE</th>\n",
              "      <th>GENRE</th>\n",
              "      <th>DESCRIPTION</th>\n",
              "    </tr>\n",
              "  </thead>\n",
              "  <tbody>\n",
              "    <tr>\n",
              "      <th>0</th>\n",
              "      <td>Edgar's Lunch (1998)</td>\n",
              "      <td>thriller</td>\n",
              "      <td>L.R. Brane loves his life - his car, his apart...</td>\n",
              "    </tr>\n",
              "    <tr>\n",
              "      <th>1</th>\n",
              "      <td>La guerra de papá (1977)</td>\n",
              "      <td>comedy</td>\n",
              "      <td>Spain, March 1964: Quico is a very naughty chi...</td>\n",
              "    </tr>\n",
              "    <tr>\n",
              "      <th>2</th>\n",
              "      <td>Off the Beaten Track (2010)</td>\n",
              "      <td>documentary</td>\n",
              "      <td>One year in the life of Albin and his family o...</td>\n",
              "    </tr>\n",
              "    <tr>\n",
              "      <th>3</th>\n",
              "      <td>Meu Amigo Hindu (2015)</td>\n",
              "      <td>drama</td>\n",
              "      <td>His father has died, he hasn't spoken with his...</td>\n",
              "    </tr>\n",
              "    <tr>\n",
              "      <th>4</th>\n",
              "      <td>Er nu zhai (1955)</td>\n",
              "      <td>drama</td>\n",
              "      <td>Before he was known internationally as a marti...</td>\n",
              "    </tr>\n",
              "  </tbody>\n",
              "</table>\n",
              "</div>"
            ],
            "text/plain": [
              "                         TITLE  ...                                        DESCRIPTION\n",
              "0         Edgar's Lunch (1998)  ...  L.R. Brane loves his life - his car, his apart...\n",
              "1     La guerra de papá (1977)  ...  Spain, March 1964: Quico is a very naughty chi...\n",
              "2  Off the Beaten Track (2010)  ...  One year in the life of Albin and his family o...\n",
              "3       Meu Amigo Hindu (2015)  ...  His father has died, he hasn't spoken with his...\n",
              "4            Er nu zhai (1955)  ...  Before he was known internationally as a marti...\n",
              "\n",
              "[5 rows x 3 columns]"
            ]
          },
          "metadata": {
            "tags": []
          },
          "execution_count": 12
        }
      ]
    },
    {
      "cell_type": "code",
      "metadata": {
        "colab": {
          "base_uri": "https://localhost:8080/"
        },
        "id": "rh7BDNgvvFmD",
        "outputId": "50596415-6736-4e5f-f7ec-3d4fdfd10b82"
      },
      "source": [
        "if sum(list(df_test_data_solution.isnull().sum())) == 0:\n",
        "    print('\\033[1m' + 'NaN-строки отсутствуют')\n",
        "else:\n",
        "    print('\\033[1m' + 'NaN-строки присутствуют в количестве:'+'\\033[0m')\n",
        "    print(df_test_data_solution.isnull().sum())"
      ],
      "execution_count": 13,
      "outputs": [
        {
          "output_type": "stream",
          "text": [
            "\u001b[1mNaN-строки отсутствуют\n"
          ],
          "name": "stdout"
        }
      ]
    },
    {
      "cell_type": "code",
      "metadata": {
        "colab": {
          "base_uri": "https://localhost:8080/"
        },
        "id": "viUlFZa8vFmE",
        "outputId": "a4f17d1c-69d3-4dde-ea9c-e78ba6774209"
      },
      "source": [
        "df_test_data_solution.info()"
      ],
      "execution_count": 14,
      "outputs": [
        {
          "output_type": "stream",
          "text": [
            "<class 'pandas.core.frame.DataFrame'>\n",
            "RangeIndex: 54200 entries, 0 to 54199\n",
            "Data columns (total 3 columns):\n",
            " #   Column       Non-Null Count  Dtype \n",
            "---  ------       --------------  ----- \n",
            " 0   TITLE        54200 non-null  object\n",
            " 1   GENRE        54200 non-null  object\n",
            " 2   DESCRIPTION  54200 non-null  object\n",
            "dtypes: object(3)\n",
            "memory usage: 1.2+ MB\n"
          ],
          "name": "stdout"
        }
      ]
    },
    {
      "cell_type": "code",
      "metadata": {
        "colab": {
          "base_uri": "https://localhost:8080/",
          "height": 173
        },
        "id": "ODQ4GMrPvFmE",
        "outputId": "9419c601-d193-4b23-fa97-680b0f7e558f"
      },
      "source": [
        "df_test_data_solution.describe()"
      ],
      "execution_count": 15,
      "outputs": [
        {
          "output_type": "execute_result",
          "data": {
            "text/html": [
              "<div>\n",
              "<style scoped>\n",
              "    .dataframe tbody tr th:only-of-type {\n",
              "        vertical-align: middle;\n",
              "    }\n",
              "\n",
              "    .dataframe tbody tr th {\n",
              "        vertical-align: top;\n",
              "    }\n",
              "\n",
              "    .dataframe thead th {\n",
              "        text-align: right;\n",
              "    }\n",
              "</style>\n",
              "<table border=\"1\" class=\"dataframe\">\n",
              "  <thead>\n",
              "    <tr style=\"text-align: right;\">\n",
              "      <th></th>\n",
              "      <th>TITLE</th>\n",
              "      <th>GENRE</th>\n",
              "      <th>DESCRIPTION</th>\n",
              "    </tr>\n",
              "  </thead>\n",
              "  <tbody>\n",
              "    <tr>\n",
              "      <th>count</th>\n",
              "      <td>54200</td>\n",
              "      <td>54200</td>\n",
              "      <td>54200</td>\n",
              "    </tr>\n",
              "    <tr>\n",
              "      <th>unique</th>\n",
              "      <td>54200</td>\n",
              "      <td>27</td>\n",
              "      <td>54072</td>\n",
              "    </tr>\n",
              "    <tr>\n",
              "      <th>top</th>\n",
              "      <td>The Jeweled Heart Murders (2016)</td>\n",
              "      <td>drama</td>\n",
              "      <td>Grammy - music award of the American academy o...</td>\n",
              "    </tr>\n",
              "    <tr>\n",
              "      <th>freq</th>\n",
              "      <td>1</td>\n",
              "      <td>13612</td>\n",
              "      <td>10</td>\n",
              "    </tr>\n",
              "  </tbody>\n",
              "</table>\n",
              "</div>"
            ],
            "text/plain": [
              "                                   TITLE  ...                                        DESCRIPTION\n",
              "count                              54200  ...                                              54200\n",
              "unique                             54200  ...                                              54072\n",
              "top     The Jeweled Heart Murders (2016)  ...  Grammy - music award of the American academy o...\n",
              "freq                                   1  ...                                                 10\n",
              "\n",
              "[4 rows x 3 columns]"
            ]
          },
          "metadata": {
            "tags": []
          },
          "execution_count": 15
        }
      ]
    },
    {
      "cell_type": "code",
      "metadata": {
        "colab": {
          "base_uri": "https://localhost:8080/"
        },
        "id": "GzCVQazIvFmE",
        "outputId": "5141454b-bda4-42ca-84ef-de3373b2aac9"
      },
      "source": [
        "print(f\"Количество возможных классификаций по жанрам в df_test_data_solution = \\\n",
        "{df_test_data_solution['GENRE'].nunique()}\")"
      ],
      "execution_count": 16,
      "outputs": [
        {
          "output_type": "stream",
          "text": [
            "Количество возможных классификаций по жанрам в df_test_data_solution = 27\n"
          ],
          "name": "stdout"
        }
      ]
    },
    {
      "cell_type": "code",
      "metadata": {
        "colab": {
          "base_uri": "https://localhost:8080/",
          "height": 221
        },
        "id": "sDZyXs5nvFmF",
        "outputId": "27bff196-75fb-4831-c190-99904a69be90"
      },
      "source": [
        "# дубликаты в столбце DESCRIPTION\n",
        "ids = df_test_data_solution['DESCRIPTION']\n",
        "print('Количество идентичных записей в столбце DESCRIPTION =', \n",
        "      df_test_data_solution[ids.isin(ids[ids.duplicated()])].index.nunique())\n",
        "df_test_data_solution[ids.isin(ids[ids.duplicated()])].sort_values('DESCRIPTION').head()"
      ],
      "execution_count": 17,
      "outputs": [
        {
          "output_type": "stream",
          "text": [
            "Количество идентичных записей в столбце DESCRIPTION = 203\n"
          ],
          "name": "stdout"
        },
        {
          "output_type": "execute_result",
          "data": {
            "text/html": [
              "<div>\n",
              "<style scoped>\n",
              "    .dataframe tbody tr th:only-of-type {\n",
              "        vertical-align: middle;\n",
              "    }\n",
              "\n",
              "    .dataframe tbody tr th {\n",
              "        vertical-align: top;\n",
              "    }\n",
              "\n",
              "    .dataframe thead th {\n",
              "        text-align: right;\n",
              "    }\n",
              "</style>\n",
              "<table border=\"1\" class=\"dataframe\">\n",
              "  <thead>\n",
              "    <tr style=\"text-align: right;\">\n",
              "      <th></th>\n",
              "      <th>TITLE</th>\n",
              "      <th>GENRE</th>\n",
              "      <th>DESCRIPTION</th>\n",
              "    </tr>\n",
              "  </thead>\n",
              "  <tbody>\n",
              "    <tr>\n",
              "      <th>27594</th>\n",
              "      <td>The 31st Annual People's Choice Awards (2005)</td>\n",
              "      <td>family</td>\n",
              "      <td>\"People' s Choice Awards\" - American award, th...</td>\n",
              "    </tr>\n",
              "    <tr>\n",
              "      <th>33787</th>\n",
              "      <td>The 26th Annual People's Choice Awards (2000)</td>\n",
              "      <td>family</td>\n",
              "      <td>\"People' s Choice Awards\" - American award, th...</td>\n",
              "    </tr>\n",
              "    <tr>\n",
              "      <th>21428</th>\n",
              "      <td>The 25th Annual People's Choice Awards (1999)</td>\n",
              "      <td>family</td>\n",
              "      <td>\"People' s Choice Awards\" - American award, th...</td>\n",
              "    </tr>\n",
              "    <tr>\n",
              "      <th>15156</th>\n",
              "      <td>The 30th Annual People's Choice Awards (2004)</td>\n",
              "      <td>family</td>\n",
              "      <td>\"People' s Choice Awards\" - American award, th...</td>\n",
              "    </tr>\n",
              "    <tr>\n",
              "      <th>11257</th>\n",
              "      <td>The 12th Annual People's Choice Awards (1986)</td>\n",
              "      <td>family</td>\n",
              "      <td>\"People' s Choice Awards\" - American award, th...</td>\n",
              "    </tr>\n",
              "  </tbody>\n",
              "</table>\n",
              "</div>"
            ],
            "text/plain": [
              "                                               TITLE  ...                                        DESCRIPTION\n",
              "27594  The 31st Annual People's Choice Awards (2005)  ...  \"People' s Choice Awards\" - American award, th...\n",
              "33787  The 26th Annual People's Choice Awards (2000)  ...  \"People' s Choice Awards\" - American award, th...\n",
              "21428  The 25th Annual People's Choice Awards (1999)  ...  \"People' s Choice Awards\" - American award, th...\n",
              "15156  The 30th Annual People's Choice Awards (2004)  ...  \"People' s Choice Awards\" - American award, th...\n",
              "11257  The 12th Annual People's Choice Awards (1986)  ...  \"People' s Choice Awards\" - American award, th...\n",
              "\n",
              "[5 rows x 3 columns]"
            ]
          },
          "metadata": {
            "tags": []
          },
          "execution_count": 17
        }
      ]
    },
    {
      "cell_type": "code",
      "metadata": {
        "colab": {
          "base_uri": "https://localhost:8080/"
        },
        "id": "CFR9p82DvFmF",
        "outputId": "3d06cde2-f687-43ee-8014-5c540f782597"
      },
      "source": [
        "# применяем функцию в датафрейму с помощью метода .apply()\n",
        "tokenized_tweets= df_test_data_solution.DESCRIPTION.apply(tokenize_text)\n",
        "\n",
        "# добавляем новую колонку в исходный датафрейм\n",
        "df_test_data_solution = df_test_data_solution.assign(\n",
        "    tokenized=tokenized_tweets\n",
        ")\n",
        "print(f\"Уникальных токенов {len(set(chain.from_iterable(df_test_data_solution['tokenized'].to_list())))}.\")"
      ],
      "execution_count": 18,
      "outputs": [
        {
          "output_type": "stream",
          "text": [
            "Уникальных токенов 147539.\n"
          ],
          "name": "stdout"
        }
      ]
    },
    {
      "cell_type": "markdown",
      "metadata": {
        "id": "XSfmKC7cvFmG"
      },
      "source": [
        "---"
      ]
    },
    {
      "cell_type": "markdown",
      "metadata": {
        "id": "XE2j1DOnvFmG"
      },
      "source": [
        "### df_train_data"
      ]
    },
    {
      "cell_type": "code",
      "metadata": {
        "colab": {
          "base_uri": "https://localhost:8080/",
          "height": 204
        },
        "id": "_uMojoAnvFmG",
        "outputId": "971312e6-1ae4-4c7d-84be-4bfeb9254f02"
      },
      "source": [
        "df_train_data = pd.read_csv('/content/drive/MyDrive/Genre Classification Dataset/train_data.txt', \n",
        "                           sep = ' ::: ', index_col = 0, engine ='python', header = None, encoding='UTF-8')\n",
        "df_train_data.columns = ['TITLE','GENRE','DESCRIPTION']\n",
        "df_train_data.reset_index(drop=True, inplace=True)\n",
        "df_train_data.head()"
      ],
      "execution_count": 19,
      "outputs": [
        {
          "output_type": "execute_result",
          "data": {
            "text/html": [
              "<div>\n",
              "<style scoped>\n",
              "    .dataframe tbody tr th:only-of-type {\n",
              "        vertical-align: middle;\n",
              "    }\n",
              "\n",
              "    .dataframe tbody tr th {\n",
              "        vertical-align: top;\n",
              "    }\n",
              "\n",
              "    .dataframe thead th {\n",
              "        text-align: right;\n",
              "    }\n",
              "</style>\n",
              "<table border=\"1\" class=\"dataframe\">\n",
              "  <thead>\n",
              "    <tr style=\"text-align: right;\">\n",
              "      <th></th>\n",
              "      <th>TITLE</th>\n",
              "      <th>GENRE</th>\n",
              "      <th>DESCRIPTION</th>\n",
              "    </tr>\n",
              "  </thead>\n",
              "  <tbody>\n",
              "    <tr>\n",
              "      <th>0</th>\n",
              "      <td>Oscar et la dame rose (2009)</td>\n",
              "      <td>drama</td>\n",
              "      <td>Listening in to a conversation between his doc...</td>\n",
              "    </tr>\n",
              "    <tr>\n",
              "      <th>1</th>\n",
              "      <td>Cupid (1997)</td>\n",
              "      <td>thriller</td>\n",
              "      <td>A brother and sister with a past incestuous re...</td>\n",
              "    </tr>\n",
              "    <tr>\n",
              "      <th>2</th>\n",
              "      <td>Young, Wild and Wonderful (1980)</td>\n",
              "      <td>adult</td>\n",
              "      <td>As the bus empties the students for their fiel...</td>\n",
              "    </tr>\n",
              "    <tr>\n",
              "      <th>3</th>\n",
              "      <td>The Secret Sin (1915)</td>\n",
              "      <td>drama</td>\n",
              "      <td>To help their unemployed father make ends meet...</td>\n",
              "    </tr>\n",
              "    <tr>\n",
              "      <th>4</th>\n",
              "      <td>The Unrecovered (2007)</td>\n",
              "      <td>drama</td>\n",
              "      <td>The film's title refers not only to the un-rec...</td>\n",
              "    </tr>\n",
              "  </tbody>\n",
              "</table>\n",
              "</div>"
            ],
            "text/plain": [
              "                              TITLE  ...                                        DESCRIPTION\n",
              "0      Oscar et la dame rose (2009)  ...  Listening in to a conversation between his doc...\n",
              "1                      Cupid (1997)  ...  A brother and sister with a past incestuous re...\n",
              "2  Young, Wild and Wonderful (1980)  ...  As the bus empties the students for their fiel...\n",
              "3             The Secret Sin (1915)  ...  To help their unemployed father make ends meet...\n",
              "4            The Unrecovered (2007)  ...  The film's title refers not only to the un-rec...\n",
              "\n",
              "[5 rows x 3 columns]"
            ]
          },
          "metadata": {
            "tags": []
          },
          "execution_count": 19
        }
      ]
    },
    {
      "cell_type": "code",
      "metadata": {
        "colab": {
          "base_uri": "https://localhost:8080/"
        },
        "id": "7PVmejtGvFmH",
        "outputId": "3309959d-86cd-4208-ce0d-8c45c907a399"
      },
      "source": [
        "if sum(list(df_train_data.isnull().sum())) == 0:\n",
        "    print('\\033[1m' + 'NaN-строки отсутствуют')\n",
        "else:\n",
        "    print('\\033[1m' + 'NaN-строки присутствуют в количестве:'+'\\033[0m')\n",
        "    print(df_train_data.isnull().sum())"
      ],
      "execution_count": 20,
      "outputs": [
        {
          "output_type": "stream",
          "text": [
            "\u001b[1mNaN-строки отсутствуют\n"
          ],
          "name": "stdout"
        }
      ]
    },
    {
      "cell_type": "code",
      "metadata": {
        "colab": {
          "base_uri": "https://localhost:8080/"
        },
        "id": "oC0HYMl3vFmH",
        "outputId": "a56ed8c6-5580-4af4-b9b8-fd8313f1367e"
      },
      "source": [
        "df_train_data.info()"
      ],
      "execution_count": 21,
      "outputs": [
        {
          "output_type": "stream",
          "text": [
            "<class 'pandas.core.frame.DataFrame'>\n",
            "RangeIndex: 54214 entries, 0 to 54213\n",
            "Data columns (total 3 columns):\n",
            " #   Column       Non-Null Count  Dtype \n",
            "---  ------       --------------  ----- \n",
            " 0   TITLE        54214 non-null  object\n",
            " 1   GENRE        54214 non-null  object\n",
            " 2   DESCRIPTION  54214 non-null  object\n",
            "dtypes: object(3)\n",
            "memory usage: 1.2+ MB\n"
          ],
          "name": "stdout"
        }
      ]
    },
    {
      "cell_type": "code",
      "metadata": {
        "colab": {
          "base_uri": "https://localhost:8080/",
          "height": 173
        },
        "id": "rfMTBR98vFmI",
        "outputId": "7ddd7aa9-423b-45ec-b57f-c70d60dc291a"
      },
      "source": [
        "df_train_data.describe()"
      ],
      "execution_count": 22,
      "outputs": [
        {
          "output_type": "execute_result",
          "data": {
            "text/html": [
              "<div>\n",
              "<style scoped>\n",
              "    .dataframe tbody tr th:only-of-type {\n",
              "        vertical-align: middle;\n",
              "    }\n",
              "\n",
              "    .dataframe tbody tr th {\n",
              "        vertical-align: top;\n",
              "    }\n",
              "\n",
              "    .dataframe thead th {\n",
              "        text-align: right;\n",
              "    }\n",
              "</style>\n",
              "<table border=\"1\" class=\"dataframe\">\n",
              "  <thead>\n",
              "    <tr style=\"text-align: right;\">\n",
              "      <th></th>\n",
              "      <th>TITLE</th>\n",
              "      <th>GENRE</th>\n",
              "      <th>DESCRIPTION</th>\n",
              "    </tr>\n",
              "  </thead>\n",
              "  <tbody>\n",
              "    <tr>\n",
              "      <th>count</th>\n",
              "      <td>54214</td>\n",
              "      <td>54214</td>\n",
              "      <td>54214</td>\n",
              "    </tr>\n",
              "    <tr>\n",
              "      <th>unique</th>\n",
              "      <td>54214</td>\n",
              "      <td>27</td>\n",
              "      <td>54086</td>\n",
              "    </tr>\n",
              "    <tr>\n",
              "      <th>top</th>\n",
              "      <td>Das Sommerhaus (2014)</td>\n",
              "      <td>drama</td>\n",
              "      <td>Grammy - music award of the American academy o...</td>\n",
              "    </tr>\n",
              "    <tr>\n",
              "      <th>freq</th>\n",
              "      <td>1</td>\n",
              "      <td>13613</td>\n",
              "      <td>12</td>\n",
              "    </tr>\n",
              "  </tbody>\n",
              "</table>\n",
              "</div>"
            ],
            "text/plain": [
              "                        TITLE  ...                                        DESCRIPTION\n",
              "count                   54214  ...                                              54214\n",
              "unique                  54214  ...                                              54086\n",
              "top     Das Sommerhaus (2014)  ...  Grammy - music award of the American academy o...\n",
              "freq                        1  ...                                                 12\n",
              "\n",
              "[4 rows x 3 columns]"
            ]
          },
          "metadata": {
            "tags": []
          },
          "execution_count": 22
        }
      ]
    },
    {
      "cell_type": "code",
      "metadata": {
        "colab": {
          "base_uri": "https://localhost:8080/"
        },
        "id": "K5m4XKH7vFmI",
        "outputId": "b088190e-6d8d-4bb0-96f7-022a9ef7a888"
      },
      "source": [
        "print(f\"Количество возможных классификаций по жанрам в df_test_data_solution = \\\n",
        "{df_train_data['GENRE'].nunique()}\")"
      ],
      "execution_count": 23,
      "outputs": [
        {
          "output_type": "stream",
          "text": [
            "Количество возможных классификаций по жанрам в df_test_data_solution = 27\n"
          ],
          "name": "stdout"
        }
      ]
    },
    {
      "cell_type": "code",
      "metadata": {
        "colab": {
          "base_uri": "https://localhost:8080/",
          "height": 221
        },
        "id": "9TX2X3sZvFmJ",
        "outputId": "942367e2-283c-4942-d7b2-a748f8502167"
      },
      "source": [
        "# дубликаты в столбце DESCRIPTION\n",
        "ids = df_train_data['DESCRIPTION']\n",
        "print('Количество идентичных записей в столбце DESCRIPTION =', \n",
        "      df_train_data[ids.isin(ids[ids.duplicated()])].index.nunique())\n",
        "df_train_data[ids.isin(ids[ids.duplicated()])].sort_values('DESCRIPTION').head()"
      ],
      "execution_count": 24,
      "outputs": [
        {
          "output_type": "stream",
          "text": [
            "Количество идентичных записей в столбце DESCRIPTION = 204\n"
          ],
          "name": "stdout"
        },
        {
          "output_type": "execute_result",
          "data": {
            "text/html": [
              "<div>\n",
              "<style scoped>\n",
              "    .dataframe tbody tr th:only-of-type {\n",
              "        vertical-align: middle;\n",
              "    }\n",
              "\n",
              "    .dataframe tbody tr th {\n",
              "        vertical-align: top;\n",
              "    }\n",
              "\n",
              "    .dataframe thead th {\n",
              "        text-align: right;\n",
              "    }\n",
              "</style>\n",
              "<table border=\"1\" class=\"dataframe\">\n",
              "  <thead>\n",
              "    <tr style=\"text-align: right;\">\n",
              "      <th></th>\n",
              "      <th>TITLE</th>\n",
              "      <th>GENRE</th>\n",
              "      <th>DESCRIPTION</th>\n",
              "    </tr>\n",
              "  </thead>\n",
              "  <tbody>\n",
              "    <tr>\n",
              "      <th>27304</th>\n",
              "      <td>The 18th Annual People's Choice Awards (1992)</td>\n",
              "      <td>family</td>\n",
              "      <td>\"People' s Choice Awards\" - American award, th...</td>\n",
              "    </tr>\n",
              "    <tr>\n",
              "      <th>39037</th>\n",
              "      <td>The 28th Annual People's Choice Awards (2002)</td>\n",
              "      <td>family</td>\n",
              "      <td>\"People' s Choice Awards\" - American award, th...</td>\n",
              "    </tr>\n",
              "    <tr>\n",
              "      <th>17577</th>\n",
              "      <td>The 3rd Annual People's Choice Awards (1977)</td>\n",
              "      <td>reality-tv</td>\n",
              "      <td>\"People' s Choice Awards\" - American award, th...</td>\n",
              "    </tr>\n",
              "    <tr>\n",
              "      <th>17765</th>\n",
              "      <td>The 5th Annual People's Choice Awards (1979)</td>\n",
              "      <td>reality-tv</td>\n",
              "      <td>\"People' s Choice Awards\" - American award, th...</td>\n",
              "    </tr>\n",
              "    <tr>\n",
              "      <th>35641</th>\n",
              "      <td>The 38th Annual People's Choice Awards (2012)</td>\n",
              "      <td>talk-show</td>\n",
              "      <td>\"People' s Choice Awards\" - American award, th...</td>\n",
              "    </tr>\n",
              "  </tbody>\n",
              "</table>\n",
              "</div>"
            ],
            "text/plain": [
              "                                               TITLE  ...                                        DESCRIPTION\n",
              "27304  The 18th Annual People's Choice Awards (1992)  ...  \"People' s Choice Awards\" - American award, th...\n",
              "39037  The 28th Annual People's Choice Awards (2002)  ...  \"People' s Choice Awards\" - American award, th...\n",
              "17577   The 3rd Annual People's Choice Awards (1977)  ...  \"People' s Choice Awards\" - American award, th...\n",
              "17765   The 5th Annual People's Choice Awards (1979)  ...  \"People' s Choice Awards\" - American award, th...\n",
              "35641  The 38th Annual People's Choice Awards (2012)  ...  \"People' s Choice Awards\" - American award, th...\n",
              "\n",
              "[5 rows x 3 columns]"
            ]
          },
          "metadata": {
            "tags": []
          },
          "execution_count": 24
        }
      ]
    },
    {
      "cell_type": "code",
      "metadata": {
        "colab": {
          "base_uri": "https://localhost:8080/"
        },
        "id": "e2SVdFoXvFmJ",
        "outputId": "98cb9bf0-dd2d-49ba-ca8a-d8f31ae9ae39"
      },
      "source": [
        "# применяем функцию в датафрейму с помощью метода .apply()\n",
        "tokenized_tweets= df_train_data.DESCRIPTION.apply(tokenize_text)\n",
        "\n",
        "# добавляем новую колонку в исходный датафрейм\n",
        "df_train_data = df_train_data.assign(\n",
        "    tokenized=tokenized_tweets\n",
        ")\n",
        "print(f\"Уникальных токенов {len(set(chain.from_iterable(df_train_data['tokenized'].to_list())))}.\")"
      ],
      "execution_count": 25,
      "outputs": [
        {
          "output_type": "stream",
          "text": [
            "Уникальных токенов 148252.\n"
          ],
          "name": "stdout"
        }
      ]
    },
    {
      "cell_type": "markdown",
      "metadata": {
        "id": "pwl9C-dWvFmK"
      },
      "source": [
        "---"
      ]
    },
    {
      "cell_type": "markdown",
      "metadata": {
        "id": "eMGlotkSxUUz"
      },
      "source": [
        "###### Создадим словарь уникальных слов из всех токенизированных описаний фильмов датасета train_data"
      ]
    },
    {
      "cell_type": "code",
      "metadata": {
        "id": "ZiKxeFwrvFmL"
      },
      "source": [
        "# Список уникальных слов из train_data для формирования словаря\n",
        "word_list = list(set(chain.from_iterable(df_train_data['tokenized'].to_list())))\n",
        "word_list.sort()"
      ],
      "execution_count": 26,
      "outputs": []
    },
    {
      "cell_type": "code",
      "metadata": {
        "id": "xxWjt3R6vFmM"
      },
      "source": [
        "# Количество слов в словаре\n",
        "VOCAB_SIZE = len(set(chain.from_iterable(df_train_data['tokenized'].to_list()))) + 3"
      ],
      "execution_count": 27,
      "outputs": []
    },
    {
      "cell_type": "code",
      "metadata": {
        "id": "CEcOCWBVvFmN"
      },
      "source": [
        "# Словарь - слово:индекс\n",
        "word_index = dict(zip(word_list, range(len(word_list))))\n",
        "word_index = {k:(v+3) for k,v in word_index.items()} \n",
        "word_index[\"<PAD>\"] = 0\n",
        "word_index[\"<START>\"] = 1\n",
        "word_index[\"<UNKNOWN>\"] = 2\n",
        "\n",
        "# Обратный словарь индекс:слово\n",
        "reverse_word_index = dict([(value, key) for (key, value) in word_index.items()])\n",
        "\n",
        "# последовательность индексов в текст\n",
        "def decode_review(text):\n",
        "    return ' '.join([reverse_word_index.get(i, '?') for i in text])\n",
        "\n",
        "# текст в последовательность индексов\n",
        "def encode_review(text):\n",
        "    words = text.lower().split()\n",
        "    words = ['<START>'] + words\n",
        "    idxs = [word_index.get(word, word_index['<UNKNOWN>']) for word in words]\n",
        "    return idxs"
      ],
      "execution_count": 28,
      "outputs": []
    },
    {
      "cell_type": "markdown",
      "metadata": {
        "id": "XkSBZZ4dvFmO"
      },
      "source": [
        "### Проверка работы функций decode_review и encode_review\n",
        "Протестируем функции `decode_review` и `encode_review`"
      ]
    },
    {
      "cell_type": "code",
      "metadata": {
        "colab": {
          "base_uri": "https://localhost:8080/"
        },
        "id": "ICvqxoIIvFmO",
        "outputId": "e4497db2-1b59-4169-9da8-55ba4bef26bd"
      },
      "source": [
        "# Синтетический пример\n",
        "#text = 'hello world'\n",
        "text = ' '.join(['action', 'adult', 'adventure', 'animation', 'biography', 'comedy', 'crime', \n",
        "                 'documentary', 'drama', 'family', 'fantasy', 'game-show', 'history', 'horror', \n",
        "                 'music', 'musical', 'mystery', 'news', 'reality-tv', 'romance', 'sci-fi', \n",
        "                 'short', 'sport', 'talk-show', 'thriller', 'war', 'western'])\n",
        "\n",
        "print(encode_review(text))\n",
        "print(decode_review(encode_review(text)))"
      ],
      "execution_count": 29,
      "outputs": [
        {
          "output_type": "stream",
          "text": [
            "[1, 8888, 9386, 9428, 12590, 20560, 31617, 34829, 41351, 42361, 49180, 49333, 54710, 63190, 64114, 90784, 90808, 91070, 93099, 109507, 113461, 117349, 120839, 125296, 130420, 132916, 142647, 143672]\n",
            "<START> action adult adventure animation biography comedy crime documentary drama family fantasy game-show history horror music musical mystery news reality-tv romance sci-fi short sport talk-show thriller war western\n"
          ],
          "name": "stdout"
        }
      ]
    },
    {
      "cell_type": "code",
      "metadata": {
        "colab": {
          "base_uri": "https://localhost:8080/"
        },
        "id": "d5x0cWyDvFmP",
        "outputId": "e05eb20e-8777-4ee1-8ca6-77c66f338cb3"
      },
      "source": [
        "# Реальный пример из датасета\n",
        "print('Исходный текст: \\n{}\\n'.format(df_train_data['DESCRIPTION'][1]))\n",
        "\n",
        "print('Токенизированный исходный текст: \\n{}\\n'.format(' '.join(df_train_data['tokenized'][1])))\n",
        "\n",
        "print('Example of a encoded review: \\n{}\\n'.format(encode_review(' '.join(df_train_data['tokenized'][1]))))\n",
        "\n",
        "print('Example of a decoded review: \\n{}'.format(decode_review([1, 23812, 122041, 99800, 66758, 110721, 35700, \n",
        "                                                                90671, 110721, 90673, 144967, 110664, 90673, 144967, 55903, 30531])))"
      ],
      "execution_count": 30,
      "outputs": [
        {
          "output_type": "stream",
          "text": [
            "Исходный текст: \n",
            "A brother and sister with a past incestuous relationship have a current murderous relationship. He murders the women who reject him and she murders the women who get too close to him.\n",
            "\n",
            "Токенизированный исходный текст: \n",
            "brother sister past incestuous relationship current murderous relationship murders women reject murders women get close\n",
            "\n",
            "Example of a encoded review: \n",
            "[1, 23812, 122041, 99800, 66758, 110721, 35700, 90671, 110721, 90673, 144967, 110664, 90673, 144967, 55903, 30531]\n",
            "\n",
            "Example of a decoded review: \n",
            "<START> brother sister past incestuous relationship current murderous relationship murders women reject murders women get close\n"
          ],
          "name": "stdout"
        }
      ]
    },
    {
      "cell_type": "markdown",
      "metadata": {
        "id": "-az4godXvFmP"
      },
      "source": [
        "### Приведение всех цепочек в датасете к одной длине с помощью паддинга\n",
        "Одна цепочка это одно описание. А описания могут быть различной длины. \n",
        "\n",
        "Так как нам будет необходимо собирать из описаний батчи (группы цепочек), удобно все описания привести к одной длине с помощью падинга в конце (добавлением элементов `<PAD>`)."
      ]
    },
    {
      "cell_type": "code",
      "metadata": {
        "colab": {
          "base_uri": "https://localhost:8080/"
        },
        "id": "Lo-hkfAivFmQ",
        "outputId": "a2bdf1bc-664e-4309-de96-8ef110b36714"
      },
      "source": [
        "# Расммотрим стат. данные по количеству слов в описаниях\n",
        "print('Максимально количество слов в столбце tokenized = {}\\n'.\n",
        "      format(df_train_data['tokenized'].apply(len).max()))\n",
        "print('Минимальное количество слов в столбце tokenized = {}\\n'.\n",
        "      format(df_train_data['tokenized'].apply(len).min()))\n",
        "print('Медианное количество слов в столбце tokenized = {}\\n'.\n",
        "      format(round(df_train_data['tokenized'].apply(len).median())))\n",
        "print('Среднее значение количество слов в столбце tokenized = {}\\n'.\n",
        "      format(round(df_train_data['tokenized'].apply(len).mean())))"
      ],
      "execution_count": 31,
      "outputs": [
        {
          "output_type": "stream",
          "text": [
            "Максимально количество слов в столбце tokenized = 1483\n",
            "\n",
            "Минимальное количество слов в столбце tokenized = 4\n",
            "\n",
            "Медианное количество слов в столбце tokenized = 46\n",
            "\n",
            "Среднее значение количество слов в столбце tokenized = 59\n",
            "\n"
          ],
          "name": "stdout"
        }
      ]
    },
    {
      "cell_type": "code",
      "metadata": {
        "colab": {
          "base_uri": "https://localhost:8080/",
          "height": 483
        },
        "id": "9QfNR1c3vFmQ",
        "outputId": "0d503fd4-ae1c-4c80-a37e-db48a8473da2"
      },
      "source": [
        "from matplotlib import pyplot as plt\n",
        "\n",
        "%matplotlib inline\n",
        "\n",
        "plt.figure(figsize=(8, 8))\n",
        "plt.hist(df_train_data['tokenized'].apply(len), bins = 200)\n",
        "plt.show()"
      ],
      "execution_count": 32,
      "outputs": [
        {
          "output_type": "display_data",
          "data": {
            "image/png": "[encoded data removed]",
            "text/plain": [
              "<Figure size 576x576 with 1 Axes>"
            ]
          },
          "metadata": {
            "tags": [],
            "needs_background": "light"
          }
        }
      ]
    },
    {
      "cell_type": "code",
      "metadata": {
        "id": "2cTirkNDvFmR"
      },
      "source": [
        "# Векторизация исходных данных\n",
        "array_list = []\n",
        "for row in df_train_data['tokenized'].values:\n",
        "    array_list.append(encode_review(' '.join(row)))\n",
        "train_data_array = np.array(array_list, dtype='object')\n",
        "\n",
        "array_list = []\n",
        "for row in df_test_data_solution['tokenized'].values:\n",
        "    array_list.append(encode_review(' '.join(row)))\n",
        "test_data_array = np.array(array_list, dtype='object')\n",
        "\n",
        "array_list = []\n",
        "for row in df_train_data['GENRE'].values:\n",
        "    array_list.append(encode_review(row)[1])\n",
        "train_labels_array = np.array(array_list, dtype='object')\n",
        "\n",
        "array_list = []\n",
        "for row in df_test_data_solution['GENRE'].values:\n",
        "    array_list.append(encode_review(row)[1])\n",
        "test_labels_array = np.array(array_list, dtype='object')"
      ],
      "execution_count": 33,
      "outputs": []
    },
    {
      "cell_type": "code",
      "metadata": {
        "colab": {
          "base_uri": "https://localhost:8080/"
        },
        "id": "HcnKmJD-vFmS",
        "outputId": "a450df8f-d09a-4c7d-c4f9-eb4718aaf4dc"
      },
      "source": [
        "MAX_SEQ_LEN = 150 # Финальная длина последовательности\n",
        "\n",
        "train_data = tf.keras.preprocessing.sequence.pad_sequences(\n",
        "    train_data_array,\n",
        "    value=word_index[\"<PAD>\"],\n",
        "    padding='post',\n",
        "    maxlen=MAX_SEQ_LEN)\n",
        "\n",
        "test_data = tf.keras.preprocessing.sequence.pad_sequences(\n",
        "    test_data_array,\n",
        "    value=word_index[\"<PAD>\"],\n",
        "    padding='post',\n",
        "    maxlen=MAX_SEQ_LEN)\n",
        "\n",
        "print(\"Length examples: {}\".format([len(train_data[0]), len(train_data[1])]))\n",
        "print('=====================================')\n",
        "print(\"Entry example: {}\".format(train_data[100]))"
      ],
      "execution_count": 34,
      "outputs": [
        {
          "output_type": "stream",
          "text": [
            "Length examples: [150, 150]\n",
            "=====================================\n",
            "Entry example: [     1 102130  41351  27919 105100  47238  24182 103265  15701  41467\n",
            "  23531  78458  48849  47517  44330 112422 105100  47238  88869 103265\n",
            "  41621 103300  27678  74583  49225  56982 125690  58590  98376   6364\n",
            "  37968  79225 132464  34952  57602  37568  78562  18005 106792  68602\n",
            "  50773 136963  46607  47957 125397  64493  15701 103265  73061  41084\n",
            "  33159 144560  80301  34654  58044  11952 128051  99569 123464  34905\n",
            "  34200  32859 144036  47238 105750  18684  42055 102130 124543  47238\n",
            " 130292  15701  41467 126152 141728 105037  68286  44118  68057  48281\n",
            "  97127  47238  37568  34905  66660 100720  34905  34200  52794  47213\n",
            " 138171 100720  66244  16724  37696  82447  41351 120997  15701 136486\n",
            " 104371 113513  52061 128992 126957  33507  15032  40304 100720      0\n",
            "      0      0      0      0      0      0      0      0      0      0\n",
            "      0      0      0      0      0      0      0      0      0      0\n",
            "      0      0      0      0      0      0      0      0      0      0\n",
            "      0      0      0      0      0      0      0      0      0      0]\n"
          ],
          "name": "stdout"
        }
      ]
    },
    {
      "cell_type": "code",
      "metadata": {
        "colab": {
          "base_uri": "https://localhost:8080/"
        },
        "id": "qerdkGyNvFmS",
        "outputId": "e4ba39fa-dcfd-48fe-ee98-7a93f2c2515d"
      },
      "source": [
        "# Двунаправленная рекуррентная сеть\n",
        "EMB_SIZE = 256 # Размер векторного представления (эмбеддинга)\n",
        "\n",
        "model = tf.keras.Sequential([\n",
        "    tf.keras.layers.Embedding(VOCAB_SIZE, EMB_SIZE),\n",
        "    tf.keras.layers.Bidirectional(\n",
        "        tf.keras.layers.LSTM(256, return_sequences=True, dropout=0.5, recurrent_dropout=0.5)),\n",
        "    tf.keras.layers.Bidirectional(\n",
        "        tf.keras.layers.LSTM(256, return_sequences=True, dropout=0.5, recurrent_dropout=0.5)),\n",
        "    tf.keras.layers.Bidirectional(\n",
        "        tf.keras.layers.LSTM(256, return_sequences=False, dropout=0.5, recurrent_dropout=0.5)),\n",
        "    tf.keras.layers.Dense(27, activation=tf.nn.softmax),\n",
        "])\n",
        "\n",
        "model.summary()"
      ],
      "execution_count": 67,
      "outputs": [
        {
          "output_type": "stream",
          "text": [
            "WARNING:tensorflow:Layer lstm_15 will not use cuDNN kernel since it doesn't meet the cuDNN kernel criteria. It will use generic GPU kernel as fallback when running on GPU\n",
            "WARNING:tensorflow:Layer lstm_15 will not use cuDNN kernel since it doesn't meet the cuDNN kernel criteria. It will use generic GPU kernel as fallback when running on GPU\n",
            "WARNING:tensorflow:Layer lstm_15 will not use cuDNN kernel since it doesn't meet the cuDNN kernel criteria. It will use generic GPU kernel as fallback when running on GPU\n",
            "WARNING:tensorflow:Layer lstm_16 will not use cuDNN kernel since it doesn't meet the cuDNN kernel criteria. It will use generic GPU kernel as fallback when running on GPU\n",
            "WARNING:tensorflow:Layer lstm_16 will not use cuDNN kernel since it doesn't meet the cuDNN kernel criteria. It will use generic GPU kernel as fallback when running on GPU\n",
            "WARNING:tensorflow:Layer lstm_16 will not use cuDNN kernel since it doesn't meet the cuDNN kernel criteria. It will use generic GPU kernel as fallback when running on GPU\n",
            "WARNING:tensorflow:Layer lstm_17 will not use cuDNN kernel since it doesn't meet the cuDNN kernel criteria. It will use generic GPU kernel as fallback when running on GPU\n",
            "WARNING:tensorflow:Layer lstm_17 will not use cuDNN kernel since it doesn't meet the cuDNN kernel criteria. It will use generic GPU kernel as fallback when running on GPU\n",
            "WARNING:tensorflow:Layer lstm_17 will not use cuDNN kernel since it doesn't meet the cuDNN kernel criteria. It will use generic GPU kernel as fallback when running on GPU\n",
            "Model: \"sequential_6\"\n",
            "_________________________________________________________________\n",
            "Layer (type)                 Output Shape              Param #   \n",
            "=================================================================\n",
            "embedding_6 (Embedding)      (None, None, 256)         37953280  \n",
            "_________________________________________________________________\n",
            "bidirectional_15 (Bidirectio (None, None, 512)         1050624   \n",
            "_________________________________________________________________\n",
            "bidirectional_16 (Bidirectio (None, None, 512)         1574912   \n",
            "_________________________________________________________________\n",
            "bidirectional_17 (Bidirectio (None, 512)               1574912   \n",
            "_________________________________________________________________\n",
            "dense_6 (Dense)              (None, 27)                13851     \n",
            "=================================================================\n",
            "Total params: 42,167,579\n",
            "Trainable params: 42,167,579\n",
            "Non-trainable params: 0\n",
            "_________________________________________________________________\n"
          ],
          "name": "stdout"
        }
      ]
    },
    {
      "cell_type": "code",
      "metadata": {
        "id": "o2AUTYPJvFmT"
      },
      "source": [
        "model.compile(optimizer='adam',\n",
        "              loss='sparse_categorical_crossentropy',\n",
        "              metrics=['sparse_categorical_accuracy'])"
      ],
      "execution_count": 68,
      "outputs": []
    },
    {
      "cell_type": "code",
      "metadata": {
        "id": "9L7GWA1cvFmT"
      },
      "source": [
        "x_val = train_data[:10000]\n",
        "partial_x_train = train_data[10000:]\n",
        "\n",
        "y_val = train_labels_array[:10000]\n",
        "partial_y_train = train_labels_array[10000:]"
      ],
      "execution_count": 37,
      "outputs": []
    },
    {
      "cell_type": "code",
      "metadata": {
        "id": "8GMS42SWvFmU"
      },
      "source": [
        "# приведение числовых значений y_val, partial_y_train и test_labels_array в диапазон 0...26, поскольку изначальная векторизация присвоила элементам\n",
        "# этих объектов значения индексов на основании общего словаря df_train_data['tokenized']"
      ],
      "execution_count": null,
      "outputs": []
    },
    {
      "cell_type": "code",
      "metadata": {
        "colab": {
          "base_uri": "https://localhost:8080/"
        },
        "id": "CuiNobqWvFmU",
        "outputId": "fc5d93c9-7259-4f2e-9d0e-1978e673e0ad"
      },
      "source": [
        "labels_list = list(set(train_labels_array))\n",
        "labels_list.sort()\n",
        "dict_labels = dict(zip(labels_list, range(len(labels_list))))\n",
        "dict_labels"
      ],
      "execution_count": 38,
      "outputs": [
        {
          "output_type": "execute_result",
          "data": {
            "text/plain": [
              "{8888: 0,\n",
              " 9386: 1,\n",
              " 9428: 2,\n",
              " 12590: 3,\n",
              " 20560: 4,\n",
              " 31617: 5,\n",
              " 34829: 6,\n",
              " 41351: 7,\n",
              " 42361: 8,\n",
              " 49180: 9,\n",
              " 49333: 10,\n",
              " 54710: 11,\n",
              " 63190: 12,\n",
              " 64114: 13,\n",
              " 90784: 14,\n",
              " 90808: 15,\n",
              " 91070: 16,\n",
              " 93099: 17,\n",
              " 109507: 18,\n",
              " 113461: 19,\n",
              " 117349: 20,\n",
              " 120839: 21,\n",
              " 125296: 22,\n",
              " 130420: 23,\n",
              " 132916: 24,\n",
              " 142647: 25,\n",
              " 143672: 26}"
            ]
          },
          "metadata": {
            "tags": []
          },
          "execution_count": 38
        }
      ]
    },
    {
      "cell_type": "code",
      "metadata": {
        "id": "eGHcGRLZvFmU"
      },
      "source": [
        "count = 0\n",
        "for i in y_val:\n",
        "    y_val[count] = dict_labels[i]\n",
        "    count += 1"
      ],
      "execution_count": 39,
      "outputs": []
    },
    {
      "cell_type": "code",
      "metadata": {
        "id": "ZBsFNZnNvFmU"
      },
      "source": [
        "count = 0\n",
        "for i in partial_y_train:\n",
        "    partial_y_train[count] = dict_labels[i]\n",
        "    count += 1"
      ],
      "execution_count": 40,
      "outputs": []
    },
    {
      "cell_type": "code",
      "metadata": {
        "id": "fxNGRzxAvFmV"
      },
      "source": [
        "count = 0\n",
        "for i in test_labels_array:\n",
        "    test_labels_array[count] = dict_labels[i]\n",
        "    count += 1"
      ],
      "execution_count": 41,
      "outputs": []
    },
    {
      "cell_type": "code",
      "metadata": {
        "id": "6ndQlkoNvFmV"
      },
      "source": [
        "partial_x_train = np.asarray(partial_x_train).astype('float32')\n",
        "partial_y_train = np.asarray(partial_y_train).astype('float32')\n",
        "x_val = np.asarray(x_val).astype('float32')\n",
        "y_val = np.asarray(y_val).astype('float32')\n",
        "test_labels_array = np.asarray(test_labels_array).astype('float32')"
      ],
      "execution_count": 42,
      "outputs": []
    },
    {
      "cell_type": "code",
      "metadata": {
        "colab": {
          "base_uri": "https://localhost:8080/"
        },
        "id": "Ny6rRl_svFmV",
        "outputId": "839607e3-7861-4b02-d07b-a5892d192242"
      },
      "source": [
        "BATCH_SIZE = 512\n",
        "NUM_EPOCHS = 10\n",
        "\n",
        "history = model.fit(partial_x_train,\n",
        "                    partial_y_train,\n",
        "                    epochs=NUM_EPOCHS,\n",
        "                    batch_size=BATCH_SIZE,\n",
        "                    validation_data=(x_val, y_val),\n",
        "                    verbose=1)"
      ],
      "execution_count": 59,
      "outputs": [
        {
          "output_type": "stream",
          "text": [
            "Epoch 1/5\n",
            "87/87 [==============================] - 324s 4s/step - loss: 2.4564 - sparse_categorical_accuracy: 0.2850 - val_loss: 1.8629 - val_sparse_categorical_accuracy: 0.4609\n",
            "Epoch 2/5\n",
            "87/87 [==============================] - 311s 4s/step - loss: 1.6801 - sparse_categorical_accuracy: 0.5121 - val_loss: 1.7885 - val_sparse_categorical_accuracy: 0.4760\n",
            "Epoch 3/5\n",
            "87/87 [==============================] - 307s 4s/step - loss: 1.3339 - sparse_categorical_accuracy: 0.6137 - val_loss: 1.8848 - val_sparse_categorical_accuracy: 0.4720\n",
            "Epoch 4/5\n",
            "87/87 [==============================] - 302s 3s/step - loss: 1.0494 - sparse_categorical_accuracy: 0.6988 - val_loss: 2.0674 - val_sparse_categorical_accuracy: 0.4806\n",
            "Epoch 5/5\n",
            "87/87 [==============================] - 304s 3s/step - loss: 0.8418 - sparse_categorical_accuracy: 0.7543 - val_loss: 2.1814 - val_sparse_categorical_accuracy: 0.4609\n"
          ],
          "name": "stdout"
        }
      ]
    },
    {
      "cell_type": "code",
      "metadata": {
        "colab": {
          "base_uri": "https://localhost:8080/"
        },
        "id": "tjDPg3FhvFmV",
        "outputId": "0b516985-a169-4695-f2f2-94c907eba3c9"
      },
      "source": [
        "results = model.evaluate(test_data, test_labels_array)\n",
        "\n",
        "print('Test loss: {:.4f}'.format(results[0]))\n",
        "print('Test accuracy: {:.2f} %'.format(results[1]*100))"
      ],
      "execution_count": 60,
      "outputs": [
        {
          "output_type": "stream",
          "text": [
            "1694/1694 [==============================] - 324s 191ms/step - loss: 2.1603 - sparse_categorical_accuracy: 0.4617\n",
            "Test loss: 2.1603\n",
            "Test accuracy: 46.17 %\n"
          ],
          "name": "stdout"
        }
      ]
    },
    {
      "cell_type": "code",
      "metadata": {
        "colab": {
          "base_uri": "https://localhost:8080/",
          "height": 573
        },
        "id": "WsYGRds8vFmW",
        "outputId": "89ebb66b-52e5-4c39-ea57-5581a48501aa"
      },
      "source": [
        "epochs = range(1, len(history.history['sparse_categorical_accuracy']) + 1)\n",
        "\n",
        "plt.figure()\n",
        "plt.plot(epochs, history.history['loss'], 'bo', label='Training loss')\n",
        "plt.plot(epochs, history.history['val_loss'], 'b', label='Validation loss')\n",
        "plt.title('Training and validation loss')\n",
        "plt.xlabel('Epochs')\n",
        "plt.ylabel('Loss')\n",
        "plt.legend()\n",
        "plt.grid()\n",
        "\n",
        "plt.figure()\n",
        "plt.plot(epochs, history.history['sparse_categorical_accuracy'], 'bo', label='Training acc')\n",
        "plt.plot(epochs, history.history['val_sparse_categorical_accuracy'], 'b', label='Validation acc')\n",
        "plt.title('Training and validation accuracy')\n",
        "plt.xlabel('Epochs')\n",
        "plt.ylabel('Accuracy')\n",
        "plt.legend()\n",
        "plt.grid()"
      ],
      "execution_count": 61,
      "outputs": [
        {
          "output_type": "display_data",
          "data": {
            "image/png": "[encoded data removed]",
            "text/plain": [
              "<Figure size 432x288 with 1 Axes>"
            ]
          },
          "metadata": {
            "tags": [],
            "needs_background": "light"
          }
        },
        {
          "output_type": "display_data",
          "data": {
            "image/png": "[encoded data removed]",
            "text/plain": [
              "<Figure size 432x288 with 1 Axes>"
            ]
          },
          "metadata": {
            "tags": [],
            "needs_background": "light"
          }
        }
      ]
    },
    {
      "cell_type": "code",
      "metadata": {
        "colab": {
          "base_uri": "https://localhost:8080/"
        },
        "id": "71yfX4v1kBLG",
        "outputId": "3f4285af-7d79-4bc1-df6b-d43729481567"
      },
      "source": [
        "#Проверка результатов\n",
        "all_genres = df_train_data['GENRE'].unique()\n",
        "all_genres.sort()\n",
        "def predict_genre(model, sample_idx=None):\n",
        "    if sample_idx == None:\n",
        "        sample_idx = np.random.randint(test_data.shape[0])\n",
        "    print('\\n')\n",
        "    print(f'Description:  {df_test_data.iloc[sample_idx, 1]}')\n",
        "    print(f'              ------------')\n",
        "    print(f'Actual genre:| {df_test_data_solution.iloc[sample_idx, 1]}')\n",
        "    print(f'              ------------')\n",
        "    print(f'Prediction:  | {all_genres[np.argmax(model.predict(test_data[sample_idx].reshape(1, -1)), axis=-1)][0]}')\n",
        "    print(f'              ------------')\n",
        "\n",
        "for _ in range(3):\n",
        "    predict_genre(model)"
      ],
      "execution_count": 66,
      "outputs": [
        {
          "output_type": "stream",
          "text": [
            "\n",
            "\n",
            "Description:  Action takes place during one day - 9.09.1944. This is a day, when Bulgaria goes out from Nazi coalition and join to antifascist countries. The supporters of Nazi regime are still fighting back. The partisan detachments are coming soon from mountains. The film's young protagonist Mustafa is one of them. He will have to answer for himself important moral questions which the revolution asks of every man. He should decide for himself where exactly the boundary between justified and unjustified violence lies. This is a longest day in Mustafa life - the day of his coming of age. On this day he experiences his first doubt. Mustafa remembers a night when they had orders to kill a political instigator but his friend Matey has killed his child by mistake. Matey receives a light sentence but his guilty conscience makes him put an end to his life. Another young boy joins the troupe and receives his name. He acts without questioning orders and without displaying doubt. One of his tasks is to carry out the execution of a group of arrested men after the coup. Mustafa is also there. He administers justice and feels himself unjustly punished by the death of his closest friend. On this same day he falls in love with the young partisan fighter Pshenichka and is separated from her because the enemy will shoot and kill him. The ending is a mournfully poetic - a ballade of the dark times the characters have lived.\n",
            "              ------------\n",
            "Actual genre:| drama\n",
            "              ------------\n",
            "Prediction:  | drama\n",
            "              ------------\n",
            "\n",
            "\n",
            "Description:  A drunken bachelorette party on lower Broadway ends with a scandalous post and a drunken text canceling the wedding. So it falls to the redneck bridesmaids to save the day and get the bride hitched to the blue-blood, frat boy of her dreams.\n",
            "              ------------\n",
            "Actual genre:| comedy\n",
            "              ------------\n",
            "Prediction:  | comedy\n",
            "              ------------\n",
            "\n",
            "\n",
            "Description:  Upon her mother's death, Nogawa Yuki, who grew up in a fishing village in Hokkaido, goes to Tokyo to ascertain her birth secret, and aspires to be a pianist while searching for proof that she is indeed the daughter of the late brilliant pianist, Azuma Yukihiko. The cruel treatment by the Azuma Family who are convinced that she's after their fortune and their burning jealousy once they find out she's a gifted pianist, the fierce battle with Mitsuko, the daughter of the Azuma Family, for the grand prize at the piano competition, the outcome of her romance with Professor Otsu who discovered Yuki and her talent. And who is the mysterious man who supports Yuki from the shadows? A Cinderella story that depicts how an ill-fated young woman finds out the secret of her birth until she finally finds happiness after overcoming various obstacles.\n",
            "              ------------\n",
            "Actual genre:| drama\n",
            "              ------------\n",
            "Prediction:  | drama\n",
            "              ------------\n"
          ],
          "name": "stdout"
        }
      ]
    },
    {
      "cell_type": "code",
      "metadata": {
        "id": "cTmBkQdG5FnH"
      },
      "source": [
        ""
      ],
      "execution_count": null,
      "outputs": []
    }
  ]
}